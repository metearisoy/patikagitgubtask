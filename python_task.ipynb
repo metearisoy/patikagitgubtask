{
 "cells": [
  {
   "cell_type": "code",
   "execution_count": 23,
   "metadata": {},
   "outputs": [
    {
     "name": "stdout",
     "output_type": "stream",
     "text": [
      "[1, 'a', 'cat', 2, 3, 'dog', 4, 5]\n"
     ]
    }
   ],
   "source": [
    "#patika.dev python task\n",
    "\n",
    "l = [[1,'a',['cat'],2],[[[3]],'dog'],4,5]\n",
    "\n",
    "\n",
    "\n",
    "def flatten(x):\n",
    "    flat_list = []\n",
    "    for i in x:\n",
    "        if isinstance(i, list):\n",
    "            flat_list.extend(flatten(i))  # iç listeyi tekrar flatten ediyoruz\n",
    "        else:\n",
    "            flat_list.append(i)\n",
    "    return flat_list\n",
    "\n",
    "print(flatten(l))\n"
   ]
  },
  {
   "cell_type": "code",
   "execution_count": 22,
   "metadata": {},
   "outputs": [
    {
     "data": {
      "text/plain": [
       "[[7, 6, 5], [4, 3], [2, 1]]"
      ]
     },
     "execution_count": 22,
     "metadata": {},
     "output_type": "execute_result"
    }
   ],
   "source": [
    "l1 = [[1, 2], [3, 4], [5, 6, 7]]\n",
    "\n",
    "def sort_list(x):\n",
    "    x = x[::-1]\n",
    "    for i in x:\n",
    "        i.sort(reverse=True)\n",
    "\n",
    "    return  x\n",
    "\n",
    "sort_list(l1)\n",
    "\n"
   ]
  },
  {
   "cell_type": "code",
   "execution_count": null,
   "metadata": {},
   "outputs": [],
   "source": []
  }
 ],
 "metadata": {
  "kernelspec": {
   "display_name": "Python 3",
   "language": "python",
   "name": "python3"
  },
  "language_info": {
   "codemirror_mode": {
    "name": "ipython",
    "version": 3
   },
   "file_extension": ".py",
   "mimetype": "text/x-python",
   "name": "python",
   "nbconvert_exporter": "python",
   "pygments_lexer": "ipython3",
   "version": "3.13.0"
  }
 },
 "nbformat": 4,
 "nbformat_minor": 2
}
